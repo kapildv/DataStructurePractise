{
 "cells": [
  {
   "cell_type": "code",
   "execution_count": null,
   "metadata": {},
   "outputs": [],
   "source": [
    "import random\n",
    "\n",
    "import numpy as np\n",
    "import pandas as pd\n",
    "\n",
    "import seaborn\n",
    "import matplotlib.pyplot as plt\n",
    "\n",
    "%matplotlib inline"
   ]
  },
  {
   "cell_type": "markdown",
   "metadata": {},
   "source": [
    "# Titanic Dataset"
   ]
  },
  {
   "cell_type": "markdown",
   "metadata": {},
   "source": [
    "## dataset info"
   ]
  },
  {
   "cell_type": "markdown",
   "metadata": {},
   "source": [
    "It contains demographics and passenger information and crew on board the Titanic"
   ]
  },
  {
   "cell_type": "markdown",
   "metadata": {},
   "source": [
    "## question to be answered"
   ]
  },
  {
   "cell_type": "markdown",
   "metadata": {},
   "source": [
    "    What factors made people more likely to survive?"
   ]
  },
  {
   "cell_type": "markdown",
   "metadata": {},
   "source": [
    "## load data"
   ]
  },
  {
   "cell_type": "code",
   "execution_count": null,
   "metadata": {
    "collapsed": true
   },
   "outputs": [],
   "source": [
    "titanic_data = pd.read_csv('titanic-data.csv')"
   ]
  },
  {
   "cell_type": "markdown",
   "metadata": {},
   "source": [
    "## look at few rows of the data"
   ]
  },
  {
   "cell_type": "code",
   "execution_count": null,
   "metadata": {
    "collapsed": false,
    "scrolled": true
   },
   "outputs": [],
   "source": [
    "titanic_data.head()"
   ]
  },
  {
   "cell_type": "markdown",
   "metadata": {},
   "source": [
    "## variable descriptions in the dataset"
   ]
  },
  {
   "cell_type": "markdown",
   "metadata": {},
   "source": [
    "[Kaggle Titanic Data](https://www.kaggle.com/c/titanic/data)\n",
    "\n",
    "`\n",
    "PassengerId     Passenger Unique ID\t\t\t\t\t\t\t\t\t\n",
    "Survived        Survival\n",
    "                (0 = No; 1 = Yes)\n",
    "Pclass          Passenger Class\n",
    "                (1 = Upper Class; 2 = Middle Class; 3 = Lower Class)\n",
    "Name            Name\n",
    "Sex             Sex\n",
    "Age             Age\n",
    "SibSp           Number of Siblings/Spouses Aboard\n",
    "Parch           Number of Parents/Children Aboard\n",
    "Ticket          Ticket Number\n",
    "Fare            Passenger Fare\n",
    "Cabin           Cabin\n",
    "Embarked        Port of Embarkation\n",
    "                (C = Cherbourg; Q = Queenstown; S = Southampton)\n",
    "`\n",
    "\n",
    "**SPECIAL NOTES:**\n",
    "***\n",
    "    \n",
    "    Pclass is a proxy for socio-economic status (SES)\n",
    "    - 1st ~ Upper\n",
    "    - 2nd ~ Middle\n",
    "    - 3rd ~ Lower\n",
    "\n",
    "    Age is in Years; Fractional if Age less than One (1)\n",
    "    If the Age is Estimated, it is in the form xx.5\n",
    "\n",
    "    With respect to the family relation variables (i.e. sibsp and parch)\n",
    "    some relations were ignored.  The following are the definitions used\n",
    "    for sibsp and parch.\n",
    "\n",
    "    Sibling:  Brother, Sister, Stepbrother, or Stepsister of Passenger Aboard Titanic\n",
    "    Spouse:   Husband or Wife of Passenger Aboard Titanic (Mistresses and Fiances Ignored)\n",
    "    Parent:   Mother or Father of Passenger Aboard Titanic\n",
    "    Child:    Son, Daughter, Stepson, or Stepdaughter of Passenger Aboard Titanic\n",
    "\n",
    "    Other family relatives excluded from this study include cousins,\n",
    "    nephews/nieces, aunts/uncles, and in-laws.  Some children travelled\n",
    "    only with a nanny, therefore parch=0 for them.  As well, some\n",
    "    travelled with very close friends or neighbors in a village, however,\n",
    "    the definitions do not support such relations."
   ]
  },
  {
   "cell_type": "markdown",
   "metadata": {},
   "source": [
    "## observatory look at dataset"
   ]
  },
  {
   "cell_type": "markdown",
   "metadata": {},
   "source": [
    "- 891 passenger/crew data\n",
    "- 12  features their age, sex and survival status"
   ]
  },
  {
   "cell_type": "code",
   "execution_count": null,
   "metadata": {
    "collapsed": false
   },
   "outputs": [],
   "source": [
    "titanic_data.shape"
   ]
  },
  {
   "cell_type": "code",
   "execution_count": null,
   "metadata": {
    "collapsed": false
   },
   "outputs": [],
   "source": [
    "titanic_data.columns"
   ]
  },
  {
   "cell_type": "markdown",
   "metadata": {},
   "source": [
    "# Data Wrangling and Cleaning"
   ]
  },
  {
   "cell_type": "markdown",
   "metadata": {},
   "source": [
    "### checking missing values"
   ]
  },
  {
   "cell_type": "markdown",
   "metadata": {},
   "source": [
    "missing values:\n",
    "    \n",
    "    Age      : 177 values\n",
    "    Cabin    : 687 values\n",
    "    Embarked : 2 values"
   ]
  },
  {
   "cell_type": "code",
   "execution_count": null,
   "metadata": {
    "collapsed": false
   },
   "outputs": [],
   "source": [
    "titanic_data.isnull().sum()"
   ]
  },
  {
   "cell_type": "markdown",
   "metadata": {},
   "source": [
    "### fixing missing values"
   ]
  },
  {
   "cell_type": "markdown",
   "metadata": {},
   "source": [
    "values to be fixed:\n",
    "- Age\n",
    "- Embarked\n",
    "\n",
    "**Note:**\n",
    "Cabin values are missing but they are not relevant for out analysis, so we can simple ignore that"
   ]
  },
  {
   "cell_type": "markdown",
   "metadata": {},
   "source": [
    "#### fixing age"
   ]
  },
  {
   "cell_type": "markdown",
   "metadata": {},
   "source": [
    "    We can fix  the age by replacing it with the overall mean age but\n",
    "    to make it more approriate for the analysis,\n",
    "    lets take the mean of ages grouped by sex and passenger class"
   ]
  },
  {
   "cell_type": "markdown",
   "metadata": {},
   "source": [
    "##### mean age grouped by Sex and Passenger Class"
   ]
  },
  {
   "cell_type": "markdown",
   "metadata": {},
   "source": [
    "    taking mean grouped by Sex and Passenger Class gives more appropriate results then\n",
    "    the overall mean\n",
    "    \n",
    "    we can see that the overall mean is around 29.7 whereas if we group by\n",
    "    Sex and the Passenger Class we see a different distribution\n",
    "    \n",
    "    We will be using this grouped mean for the mapping of missing ages"
   ]
  },
  {
   "cell_type": "code",
   "execution_count": null,
   "metadata": {
    "collapsed": false
   },
   "outputs": [],
   "source": [
    "overall_mean_age = titanic_data['Age'].mean()\n",
    "overall_mean_age"
   ]
  },
  {
   "cell_type": "code",
   "execution_count": null,
   "metadata": {
    "collapsed": false
   },
   "outputs": [],
   "source": [
    "mean_ages = titanic_data.groupby(['Sex','Pclass'])['Age'].mean()\n",
    "mean_ages"
   ]
  },
  {
   "cell_type": "code",
   "execution_count": null,
   "metadata": {},
   "outputs": [],
   "source": [
    "mean_ages['male', 2]"
   ]
  },
  {
   "cell_type": "markdown",
   "metadata": {},
   "source": [
    "##### mapping missing ages to mean ages calculated"
   ]
  },
  {
   "cell_type": "code",
   "execution_count": null,
   "metadata": {
    "collapsed": true
   },
   "outputs": [],
   "source": [
    "def fix_missing_ages(row):\n",
    "    '''\n",
    "    checks if the age is null and replace with the mean age\n",
    "    grouped by Sex and Passenger Class from the dataset\n",
    "    '''\n",
    "    if pd.isnull(row['Age']):\n",
    "        return mean_ages[row['Sex'],row['Pclass']]\n",
    "    else:\n",
    "        return row['Age']"
   ]
  },
  {
   "cell_type": "code",
   "execution_count": null,
   "metadata": {
    "collapsed": true
   },
   "outputs": [],
   "source": [
    "titanic_data['Age'] = titanic_data.apply(fix_missing_ages, axis=1)"
   ]
  },
  {
   "cell_type": "markdown",
   "metadata": {},
   "source": [
    "    ages fixed, 0 null values"
   ]
  },
  {
   "cell_type": "code",
   "execution_count": null,
   "metadata": {
    "collapsed": false
   },
   "outputs": [],
   "source": [
    "titanic_data['Age'].isnull().sum()"
   ]
  },
  {
   "cell_type": "markdown",
   "metadata": {},
   "source": [
    "#### fixing Embarked missing values"
   ]
  },
  {
   "cell_type": "markdown",
   "metadata": {},
   "source": [
    "items in Embarked:\n",
    "- Southampton : 644 people\n",
    "- Cherbourg   : 168 people\n",
    "- Queenstown  : 77 people"
   ]
  },
  {
   "cell_type": "code",
   "execution_count": null,
   "metadata": {
    "collapsed": false,
    "scrolled": true
   },
   "outputs": [],
   "source": [
    "titanic_data['Embarked'].value_counts()"
   ]
  },
  {
   "cell_type": "markdown",
   "metadata": {},
   "source": [
    "    about 72% of passengers Embarked from Southampton port"
   ]
  },
  {
   "cell_type": "code",
   "execution_count": null,
   "metadata": {
    "collapsed": false
   },
   "outputs": [],
   "source": [
    "100 * float(titanic_data[titanic_data['Embarked'] == 'S']['Embarked'].count()) / titanic_data['Embarked'].count()"
   ]
  },
  {
   "cell_type": "markdown",
   "metadata": {},
   "source": [
    "the 2 missing values"
   ]
  },
  {
   "cell_type": "code",
   "execution_count": null,
   "metadata": {
    "collapsed": false
   },
   "outputs": [],
   "source": [
    "titanic_data[titanic_data['Embarked'].isnull()]"
   ]
  },
  {
   "cell_type": "markdown",
   "metadata": {},
   "source": [
    "    missing values in Embarked can be replaced by the station Southampton, \n",
    "    since most of the people boarded from this station"
   ]
  },
  {
   "cell_type": "code",
   "execution_count": null,
   "metadata": {
    "collapsed": false
   },
   "outputs": [],
   "source": [
    "titanic_data['Embarked'].fillna('S',inplace=True)"
   ]
  },
  {
   "cell_type": "markdown",
   "metadata": {},
   "source": [
    "    missing embarked values fixed, 0 null values"
   ]
  },
  {
   "cell_type": "code",
   "execution_count": null,
   "metadata": {
    "collapsed": false
   },
   "outputs": [],
   "source": [
    "titanic_data['Embarked'].isnull().sum()"
   ]
  },
  {
   "cell_type": "markdown",
   "metadata": {},
   "source": [
    "### preparing final dataset for analysis"
   ]
  },
  {
   "cell_type": "markdown",
   "metadata": {},
   "source": [
    "#### dropping irrelavant columns from dataset"
   ]
  },
  {
   "cell_type": "markdown",
   "metadata": {},
   "source": [
    "    columns : 'PassengerId', 'Name', 'Ticket', 'Cabin are not relevant for our analysis\n",
    "    we can safely discard them from the dataset"
   ]
  },
  {
   "cell_type": "code",
   "execution_count": null,
   "metadata": {
    "collapsed": true
   },
   "outputs": [],
   "source": [
    "titanic_data = titanic_data.drop(['PassengerId', 'Name', 'Ticket', 'Cabin'], axis=1)"
   ]
  },
  {
   "cell_type": "code",
   "execution_count": null,
   "metadata": {
    "collapsed": false
   },
   "outputs": [],
   "source": [
    "titanic_data.head()"
   ]
  },
  {
   "cell_type": "markdown",
   "metadata": {},
   "source": [
    "#### formatting values in a more readable form"
   ]
  },
  {
   "cell_type": "markdown",
   "metadata": {},
   "source": [
    "the following formats, when applied makes data more presenting:\n",
    "- Survived\n",
    "    - 0 : False\n",
    "    - 1 : True\n",
    "- Pclass \n",
    "    - 1 : Upper Class\n",
    "    - 2 : Middle Class\n",
    "    - 3 : Lower Class\n",
    "- Embarked\n",
    "    - S : Southampton\n",
    "    - C : Cherbourg\n",
    "    - Q : Queenstown\n",
    "    \n",
    "**Note:** \n",
    "Sex, Age, SibSp, Parch & Fare are already in the best format"
   ]
  },
  {
   "cell_type": "code",
   "execution_count": null,
   "metadata": {
    "collapsed": true
   },
   "outputs": [],
   "source": [
    "survived_formatted = {0: False, 1: True}\n",
    "titanic_data['Survived'] = titanic_data['Survived'].map(survived_formatted)\n",
    "\n",
    "pclass_formatted = {1: 'Upper Class', 2: 'Middle Class', 3: 'Lower Class'}\n",
    "titanic_data['Pclass'] = titanic_data['Pclass'].map(pclass_formatted)\n",
    "\n",
    "embarked_formatted = {'S': 'Southampton', 'C': 'Cherbourg','Q':'Queenstown'}\n",
    "titanic_data['Embarked'] = titanic_data['Embarked'].map(embarked_formatted)"
   ]
  },
  {
   "cell_type": "code",
   "execution_count": null,
   "metadata": {
    "collapsed": false
   },
   "outputs": [],
   "source": [
    "titanic_data.head()"
   ]
  },
  {
   "cell_type": "markdown",
   "metadata": {},
   "source": [
    "#### adding a new 'FamilySize' column"
   ]
  },
  {
   "cell_type": "markdown",
   "metadata": {},
   "source": [
    "    Family Size can be calculated by adding the values of Siblings, Spouses and Parents aboard"
   ]
  },
  {
   "cell_type": "code",
   "execution_count": null,
   "metadata": {
    "collapsed": true
   },
   "outputs": [],
   "source": [
    "titanic_data['FamilySize'] = titanic_data['SibSp'] + titanic_data['Parch']"
   ]
  },
  {
   "cell_type": "markdown",
   "metadata": {},
   "source": [
    "#### adding a new 'AgeGroup' column"
   ]
  },
  {
   "cell_type": "markdown",
   "metadata": {},
   "source": [
    "    to make interesting analysis, instead of using ages;\n",
    "    we can add a new column of age groups which contains ages grouped \n",
    "    in intervals of 10 years"
   ]
  },
  {
   "cell_type": "code",
   "execution_count": null,
   "metadata": {
    "collapsed": true
   },
   "outputs": [],
   "source": [
    "age_labels = ['0-9', '10-19', '20-29', '30-39', '40-49', '50-59', '60-69', '70-79']\n",
    "titanic_data['AgeGroup'] = pd.cut(titanic_data.Age, range(0, 81, 10), right=False, labels=age_labels)"
   ]
  },
  {
   "cell_type": "markdown",
   "metadata": {},
   "source": [
    "#### final dataset"
   ]
  },
  {
   "cell_type": "code",
   "execution_count": null,
   "metadata": {
    "collapsed": false
   },
   "outputs": [],
   "source": [
    "titanic_data.head()"
   ]
  },
  {
   "cell_type": "markdown",
   "metadata": {},
   "source": [
    "# Analysis on the dataset"
   ]
  },
  {
   "cell_type": "markdown",
   "metadata": {},
   "source": [
    "### survival stats"
   ]
  },
  {
   "cell_type": "code",
   "execution_count": null,
   "metadata": {
    "collapsed": false
   },
   "outputs": [],
   "source": [
    "def percent(value, total):\n",
    "    return (100 * float(value) / total)"
   ]
  },
  {
   "cell_type": "code",
   "execution_count": null,
   "metadata": {
    "collapsed": true
   },
   "outputs": [],
   "source": [
    "survivors_data = titanic_data[titanic_data.Survived == True]\n",
    "non_survivors_data = titanic_data[titanic_data.Survived == False]"
   ]
  },
  {
   "cell_type": "code",
   "execution_count": null,
   "metadata": {
    "collapsed": true
   },
   "outputs": [],
   "source": [
    "def survival_stats(features_and_values):\n",
    "    data = []\n",
    "    index = []\n",
    "    columns = ['total', 'survived', 'not survived', '% survived', '% not survived']\n",
    "    \n",
    "    for feature in features_and_values:\n",
    "        for value in features_and_values[feature]:\n",
    "            total = len(titanic_data[titanic_data[feature] == value])\n",
    "            survived = len(survivors_data[survivors_data[feature] == value])\n",
    "            not_survived = len(non_survivors_data[non_survivors_data[feature] == value])\n",
    "            percent_survived = percent(len(survivors_data[survivors_data[feature] == value]), len(titanic_data[titanic_data[feature] == value]))\n",
    "            percent_not_survived = percent(len(non_survivors_data[non_survivors_data[feature] == value]), len(titanic_data[titanic_data[feature] == value]))\n",
    "            \n",
    "            data.append([total, survived, not_survived, percent_survived, percent_not_survived])\n",
    "            index.append(value)\n",
    "            \n",
    "    return pd.DataFrame(data, index, columns)"
   ]
  },
  {
   "cell_type": "code",
   "execution_count": null,
   "metadata": {
    "collapsed": true
   },
   "outputs": [],
   "source": [
    "features_and_values = {\n",
    "    'Sex' : ['male', 'female'],\n",
    "    'Pclass' : ['Upper Class', 'Middle Class', 'Lower Class'],\n",
    "    'AgeGroup' : ['0-9', '10-19', '20-29', '30-39', '40-49', '50-59', '60-69', '70-79']\n",
    "}"
   ]
  },
  {
   "cell_type": "code",
   "execution_count": null,
   "metadata": {},
   "outputs": [],
   "source": [
    "survivor_stats = survival_stats(features_and_values)\n",
    "survivor_stats"
   ]
  },
  {
   "cell_type": "markdown",
   "metadata": {},
   "source": [
    "### effect of survival rate by different parameters"
   ]
  },
  {
   "cell_type": "markdown",
   "metadata": {},
   "source": [
    "#### helper function"
   ]
  },
  {
   "cell_type": "code",
   "execution_count": null,
   "metadata": {},
   "outputs": [],
   "source": [
    "feature = \"Sex\""
   ]
  },
  {
   "cell_type": "code",
   "execution_count": null,
   "metadata": {},
   "outputs": [],
   "source": [
    "values = features_and_values[feature]\n",
    "labels = features_and_values[feature]"
   ]
  },
  {
   "cell_type": "code",
   "execution_count": null,
   "metadata": {},
   "outputs": [],
   "source": [
    "values"
   ]
  },
  {
   "cell_type": "code",
   "execution_count": null,
   "metadata": {},
   "outputs": [],
   "source": [
    "survivors_count = [survivor_stats['survived'].loc[i] for i in values]\n",
    "    non_survivors_count = [survivor_stats['not survived'].loc[i] for i in values]\n",
    "    survivors_percent = [survivor_stats['% survived'].loc[i] for i in values]\n",
    "    non_survivors_percent = [survivor_stats['% not survived'].loc[i] for i in values]"
   ]
  },
  {
   "cell_type": "code",
   "execution_count": null,
   "metadata": {},
   "outputs": [],
   "source": [
    "survivors_count"
   ]
  },
  {
   "cell_type": "code",
   "execution_count": null,
   "metadata": {},
   "outputs": [],
   "source": []
  },
  {
   "cell_type": "code",
   "execution_count": null,
   "metadata": {},
   "outputs": [],
   "source": []
  },
  {
   "cell_type": "code",
   "execution_count": null,
   "metadata": {
    "collapsed": true
   },
   "outputs": [],
   "source": [
    "def plot_survival(feature):\n",
    "    \"\"\"\n",
    "        this function takes in a feature from the titanic data  e.g., Pclass, Sex etc\n",
    "        and plots the counts and percent for all possible categories of that feature \n",
    "        with respect to survival and non survival rate \n",
    "        e.g, for Sex, the possible values are male and females\n",
    "    \"\"\"\n",
    "    values = features_and_values[feature]\n",
    "    labels = features_and_values[feature]\n",
    "    \n",
    "    survivors_count = [survivor_stats['survived'].loc[i] for i in values]\n",
    "    non_survivors_count = [survivor_stats['not survived'].loc[i] for i in values]\n",
    "    survivors_percent = [survivor_stats['% survived'].loc[i] for i in values]\n",
    "    non_survivors_percent = [survivor_stats['% not survived'].loc[i] for i in values]\n",
    "    \n",
    "    f, (plot1, plot2) = plt.subplots(1, 2, figsize=(10,5))\n",
    "    \n",
    "    plot1.bar(range(len(survivors_count)), survivors_count, label = 'Survivors', alpha = 0.5, color = 'g')\n",
    "    plot1.bar(range(len(non_survivors_count)), non_survivors_count, bottom = survivors_count, \n",
    "              label = 'Non Survivors', alpha=0.5, color='r')\n",
    "\n",
    "    plt.sca(plot1)\n",
    "\n",
    "    plt.xticks([0.4, 1.4, 2.4], labels )\n",
    "    plot1.set_ylabel(\"Count\")\n",
    "    plot1.set_xlabel(\"\")\n",
    "    plot1.set_title(\"Count of survivors by \" + feature, fontsize = 14)\n",
    "    plt.legend(loc = \"best\")\n",
    "\n",
    "\n",
    "    plot2.bar(range(len(survivors_percent)), survivors_percent, alpha = 0.5, color = 'g')\n",
    "    plot2.bar(range(len(non_survivors_percent)), non_survivors_percent, \n",
    "              bottom = survivors_percent, alpha = 0.5, color = 'r')\n",
    "\n",
    "    plt.sca(plot2)\n",
    "\n",
    "    plt.xticks([0.4, 1.4, 2.4],  labels)\n",
    "    plot2.set_ylabel(\"Percentage\")\n",
    "    plot2.set_xlabel(\"\")\n",
    "    plot2.set_title(\"% of survivors by \" + feature, fontsize = 14)"
   ]
  },
  {
   "cell_type": "markdown",
   "metadata": {},
   "source": [
    "### Is the survival rate affected by sex?"
   ]
  },
  {
   "cell_type": "code",
   "execution_count": null,
   "metadata": {
    "collapsed": false
   },
   "outputs": [],
   "source": [
    "plot_survival(\"Sex\")"
   ]
  },
  {
   "cell_type": "markdown",
   "metadata": {},
   "source": [
    "**Conclusion:** females had a greater rate of survival."
   ]
  },
  {
   "cell_type": "markdown",
   "metadata": {},
   "source": [
    "### Is the survival rate affected by passenger class?"
   ]
  },
  {
   "cell_type": "code",
   "execution_count": null,
   "metadata": {
    "collapsed": false
   },
   "outputs": [],
   "source": [
    "plot_survival(\"Pclass\")"
   ]
  },
  {
   "cell_type": "markdown",
   "metadata": {},
   "source": [
    "    above plots show that the passengers travelling in lower class were highest in numbers \n",
    "    but had the lowest survival rate\n",
    "    while the upper class passengers had the highest survival rate"
   ]
  },
  {
   "cell_type": "markdown",
   "metadata": {},
   "source": [
    "**Conclusion: ** Passenger class does have an impact on chances of survival"
   ]
  },
  {
   "cell_type": "markdown",
   "metadata": {},
   "source": [
    "### survival rate based on age groups"
   ]
  },
  {
   "cell_type": "code",
   "execution_count": null,
   "metadata": {
    "collapsed": false,
    "scrolled": true
   },
   "outputs": [],
   "source": [
    "titanic_data.groupby(['AgeGroup']).size()"
   ]
  },
  {
   "cell_type": "markdown",
   "metadata": {},
   "source": [
    "    majority of passengers belong to the age group \"20-29\""
   ]
  },
  {
   "cell_type": "code",
   "execution_count": null,
   "metadata": {
    "collapsed": false,
    "scrolled": true
   },
   "outputs": [],
   "source": [
    "titanic_data.groupby(['AgeGroup']).size().plot(kind = 'bar')\n",
    "\n",
    "plt.title(\"Distribution of Age Groups\", fontsize = 14)\n",
    "plt.ylabel('Count')\n",
    "plt.xlabel('Age Group')"
   ]
  },
  {
   "cell_type": "code",
   "execution_count": null,
   "metadata": {
    "collapsed": false
   },
   "outputs": [],
   "source": [
    "plot_survival(\"AgeGroup\")"
   ]
  },
  {
   "cell_type": "markdown",
   "metadata": {},
   "source": [
    "    we cannot conclude much from the age group about survival rate"
   ]
  },
  {
   "cell_type": "markdown",
   "metadata": {},
   "source": [
    "###  combined effects of Age Group, Sex and Passenger class on survival rate"
   ]
  },
  {
   "cell_type": "markdown",
   "metadata": {},
   "source": [
    "#### helper function"
   ]
  },
  {
   "cell_type": "code",
   "execution_count": null,
   "metadata": {
    "collapsed": false,
    "scrolled": true
   },
   "outputs": [],
   "source": [
    "def plot_suvival_group(features):\n",
    "    \n",
    "    values = [titanic_data[titanic_data[features[1]] == value].groupby(features[0]).Survived.mean().values \n",
    "              for value in features_and_values[features[1]]]\n",
    "    \n",
    "    x_labels = features_and_values[features[0]]\n",
    "    legend_labels = features_and_values[features[1]]\n",
    "    colors = random.sample(['b', 'g', 'r'], len(legend_labels))\n",
    "\n",
    "    plot = plt.subplot()\n",
    "\n",
    "    positions = []\n",
    "    position_move = 0\n",
    "    for i in features_and_values[features[1]]:\n",
    "        positions.append(np.array(range(len(age_labels))) + position_move)\n",
    "        position_move += 0.25\n",
    "    \n",
    "    for position, value, label, color in zip(positions, values, legend_labels, colors):\n",
    "        plot.bar(position, value, width = 0.25, label = label, alpha = 0.5, color = color)\n",
    "\n",
    "    plt.xticks((np.array(range(len(x_labels))) + 0.4), x_labels)\n",
    "\n",
    "    plot.set_ylabel(\"Proportion\")\n",
    "    plot.set_xlabel(\"Age Group\")\n",
    "    plot.set_title(\"Survivors by Age Group & Gender\", fontsize = 14)\n",
    "    plt.legend(loc = 'best')"
   ]
  },
  {
   "cell_type": "markdown",
   "metadata": {},
   "source": [
    "#### Age Group and Sex"
   ]
  },
  {
   "cell_type": "code",
   "execution_count": null,
   "metadata": {
    "collapsed": false
   },
   "outputs": [],
   "source": [
    "plot_suvival_group(['AgeGroup', 'Sex'])"
   ]
  },
  {
   "cell_type": "markdown",
   "metadata": {},
   "source": [
    "#### Age Group and Passenger Class"
   ]
  },
  {
   "cell_type": "code",
   "execution_count": null,
   "metadata": {
    "collapsed": false,
    "scrolled": true
   },
   "outputs": [],
   "source": [
    "plot_suvival_group(['AgeGroup', 'Pclass'])"
   ]
  },
  {
   "cell_type": "markdown",
   "metadata": {},
   "source": [
    "# Conclusion"
   ]
  },
  {
   "cell_type": "markdown",
   "metadata": {},
   "source": [
    "- females have a higher chance of survival\n",
    "- children and old people irrecpective of their sex have higher chance of survival"
   ]
  }
 ],
 "metadata": {
  "kernelspec": {
   "display_name": "Python 3",
   "language": "python",
   "name": "python3"
  },
  "language_info": {
   "codemirror_mode": {
    "name": "ipython",
    "version": 3
   },
   "file_extension": ".py",
   "mimetype": "text/x-python",
   "name": "python",
   "nbconvert_exporter": "python",
   "pygments_lexer": "ipython3",
   "version": "3.6.5"
  },
  "nav_menu": {},
  "toc": {
   "navigate_menu": true,
   "number_sections": true,
   "sideBar": true,
   "threshold": 6,
   "toc_cell": false,
   "toc_section_display": "block",
   "toc_window_display": false
  }
 },
 "nbformat": 4,
 "nbformat_minor": 2
}
