{
 "cells": [
  {
   "cell_type": "code",
   "execution_count": null,
   "metadata": {},
   "outputs": [],
   "source": [
    "from time import sleep\n",
    "import requests\n",
    "from urllib.request import Request, urlopen\n",
    "from bs4 import BeautifulSoup"
   ]
  },
  {
   "cell_type": "code",
   "execution_count": null,
   "metadata": {},
   "outputs": [],
   "source": [
    "url1 = \"https://www.amazon.in/Women-Watches/b/ref=nav_shopall_sbc_wfashion_watches?ie=UTF8&node=2563505031\"\n",
    "url2 = \"https://www.amazon.in/s/ref=lp_2563505031_pg_2?rh=n%3A1350387031%2Cn%3A%211350388031%2Cn%3A2563505031&page=2&ie=UTF8&qid=1532405415\"\n",
    "url3 = \"https://www.amazon.in/s/ref=sr_pg_3?rh=n%3A1350387031%2Cn%3A%211350388031%2Cn%3A2563505031&page=3&ie=UTF8&qid=1532405541\"\n",
    "url4 = \"https://www.amazon.in/s/ref=sr_pg_4?rh=n%3A1350387031%2Cn%3A%211350388031%2Cn%3A2563505031&page=4&ie=UTF8&qid=1532405568\"\n",
    "url5 = \"https://www.amazon.in/s/ref=sr_pg_5?rh=n%3A1350387031%2Cn%3A%211350388031%2Cn%3A2563505031&page=5&ie=UTF8&qid=1532405608\"\n",
    "url6 = \"https://www.amazon.in/s/ref=sr_pg_6?rh=n%3A1350387031%2Cn%3A%211350388031%2Cn%3A2563505031&page=6&ie=UTF8&qid=1532405667\""
   ]
  },
  {
   "cell_type": "code",
   "execution_count": null,
   "metadata": {},
   "outputs": [],
   "source": [
    "page_number = 1"
   ]
  },
  {
   "cell_type": "code",
   "execution_count": null,
   "metadata": {},
   "outputs": [],
   "source": [
    "page_url = \"https://www.amazon.in/s/ref=sr_pg_{}?rh=n%3A1350387031%2Cn%3A%211350388031%2Cn%3A2563505031&page={}\".format(page_number, page_number)"
   ]
  },
  {
   "cell_type": "code",
   "execution_count": null,
   "metadata": {},
   "outputs": [],
   "source": [
    "page_url"
   ]
  },
  {
   "cell_type": "code",
   "execution_count": null,
   "metadata": {},
   "outputs": [],
   "source": [
    "html = urlopen(page_url).read()\n",
    "soup = BeautifulSoup(html, \"html.parser\")"
   ]
  },
  {
   "cell_type": "code",
   "execution_count": null,
   "metadata": {},
   "outputs": [],
   "source": [
    "links = []"
   ]
  },
  {
   "cell_type": "code",
   "execution_count": null,
   "metadata": {},
   "outputs": [],
   "source": [
    "for li in soup.find_all(\"li\", {\"class\" : \"s-result-item\"}):\n",
    "    links.append(li.a['href'])"
   ]
  },
  {
   "cell_type": "code",
   "execution_count": null,
   "metadata": {},
   "outputs": [],
   "source": [
    "links[:5]"
   ]
  },
  {
   "cell_type": "code",
   "execution_count": null,
   "metadata": {},
   "outputs": [],
   "source": [
    "def get_all_product_links_in_a_page(page_url):\n",
    "    html = urlopen(page_url).read()\n",
    "    soup = BeautifulSoup(html, \"html.parser\")\n",
    "    \n",
    "    links = [li.a['href'] for li in soup.find_all(\"li\", {\"class\" : \"s-result-item\"})]\n",
    "    return links"
   ]
  },
  {
   "cell_type": "code",
   "execution_count": null,
   "metadata": {},
   "outputs": [],
   "source": [
    "links = get_all_product_links_in_a_page(page_url)"
   ]
  },
  {
   "cell_type": "code",
   "execution_count": null,
   "metadata": {},
   "outputs": [],
   "source": [
    "link = links[2]"
   ]
  },
  {
   "cell_type": "code",
   "execution_count": null,
   "metadata": {},
   "outputs": [],
   "source": [
    "link"
   ]
  },
  {
   "cell_type": "code",
   "execution_count": null,
   "metadata": {},
   "outputs": [],
   "source": [
    "\"product-reviews\".join(link.split(\"dp\"))"
   ]
  },
  {
   "cell_type": "code",
   "execution_count": null,
   "metadata": {},
   "outputs": [],
   "source": [
    "page_number = 1"
   ]
  },
  {
   "cell_type": "code",
   "execution_count": null,
   "metadata": {},
   "outputs": [],
   "source": [
    "reviews_url = \"product-reviews\".join(link.split(\"dp\")) + \"/ref=cm_cr_arp_d_paging_btm_{}?pageNumber={}\".format(page_number, page_number)"
   ]
  },
  {
   "cell_type": "code",
   "execution_count": null,
   "metadata": {},
   "outputs": [],
   "source": [
    "reviews_url"
   ]
  },
  {
   "cell_type": "code",
   "execution_count": null,
   "metadata": {},
   "outputs": [],
   "source": [
    "html = urlopen(reviews_url).read()\n",
    "soup = BeautifulSoup(html, \"html.parser\")"
   ]
  },
  {
   "cell_type": "code",
   "execution_count": null,
   "metadata": {},
   "outputs": [],
   "source": [
    "reviews_product = []"
   ]
  },
  {
   "cell_type": "code",
   "execution_count": null,
   "metadata": {},
   "outputs": [],
   "source": [
    "for div in soup.find_all(\"div\", {\"id\" : \"cm_cr-review_list\"}):\n",
    "    for _div in div.find_all(\"div\", {\"data-hook\" : \"review\"}):\n",
    "        for a in _div.find_all(\"a\", {\"data-hook\" : \"review-title\"}):\n",
    "            title = a.text\n",
    "        for i in _div.find_all(\"i\", {\"data-hook\" : \"review-star-rating\"}):\n",
    "            rating = i.text\n",
    "            rating = rating.split(\".\")[0]\n",
    "        for span in _div.find_all(\"span\", {\"data-hook\" : \"review-body\"}):\n",
    "            review = (span.text)\n",
    "        reviews_product.append([title, rating, review])"
   ]
  },
  {
   "cell_type": "code",
   "execution_count": null,
   "metadata": {},
   "outputs": [],
   "source": [
    "reviews_product[0]"
   ]
  },
  {
   "cell_type": "code",
   "execution_count": null,
   "metadata": {},
   "outputs": [],
   "source": [
    "columns = [\"title\", \"rating\", \"review\"]"
   ]
  },
  {
   "cell_type": "code",
   "execution_count": null,
   "metadata": {},
   "outputs": [],
   "source": [
    "import pandas as pd"
   ]
  },
  {
   "cell_type": "code",
   "execution_count": null,
   "metadata": {},
   "outputs": [],
   "source": [
    "df = pd.DataFrame(data=reviews_product, columns=columns)"
   ]
  },
  {
   "cell_type": "code",
   "execution_count": null,
   "metadata": {},
   "outputs": [],
   "source": [
    "df.head()"
   ]
  },
  {
   "cell_type": "markdown",
   "metadata": {},
   "source": [
    "# helper functions"
   ]
  },
  {
   "cell_type": "code",
   "execution_count": null,
   "metadata": {},
   "outputs": [],
   "source": [
    "def get_all_product_links_in_a_page(page_url):\n",
    "    html = urlopen(page_url).read()\n",
    "    soup = BeautifulSoup(html, \"html.parser\")\n",
    "    \n",
    "    links = [li.a['href'] for li in soup.find_all(\"li\", {\"class\" : \"s-result-item\"})]\n",
    "    return links"
   ]
  },
  {
   "cell_type": "code",
   "execution_count": null,
   "metadata": {},
   "outputs": [],
   "source": [
    "def find_all_reviews_in_a_page(url):\n",
    "    html = urlopen(url).read()\n",
    "    soup = BeautifulSoup(html, \"html.parser\")\n",
    "    \n",
    "    reviews = []\n",
    "    \n",
    "    for div in soup.find_all(\"div\", {\"id\" : \"cm_cr-review_list\"}):\n",
    "        for _div in div:\n",
    "            try:\n",
    "                _id = _div[\"id\"]\n",
    "                review = (_div.find(\"span\", {\"data-hook\" : \"review-body\"})).text\n",
    "                reviews.append(review)\n",
    "            except:\n",
    "                pass\n",
    "            \n",
    "    return reviews"
   ]
  },
  {
   "cell_type": "code",
   "execution_count": null,
   "metadata": {},
   "outputs": [],
   "source": [
    "def find_all_reviews_of_a_product(product_link):\n",
    "    reviews = []\n",
    "    \n",
    "    for i in range(1, 100, 1):\n",
    "        page_number = str(i)\n",
    "        reviews_url = \"product-reviews\".join(product_link.split(\"dp\")) + \"/ref=cm_cr_arp_d_paging_btm_\" + page_number + \"?pageNumber=\" + page_number\n",
    "       \n",
    "        try:\n",
    "            _reviews = find_all_reviews_in_a_page(reviews_url)\n",
    "        except:\n",
    "            sleep(5)\n",
    "            _reviews = find_all_reviews_in_a_page(reviews_url)\n",
    "            \n",
    "        if len(_reviews) > 0:\n",
    "            reviews += _reviews\n",
    "        else:\n",
    "            break\n",
    "            \n",
    "    return reviews"
   ]
  },
  {
   "cell_type": "code",
   "execution_count": null,
   "metadata": {},
   "outputs": [],
   "source": [
    "def get_all_reviews_of_a_category():\n",
    "    url1 = \"https://www.amazon.in/s/ref=sr_pg_\"\n",
    "    url2 = \"?rh=n%3A1350387031%2Cn%3A%211350388031%2Cn%3A2563505031%2Cp_n_pct-off-with-tax%3A30-%2Cp_98%3A10440597031&page=\"\n",
    "    url3 = \"&bbn=2563505031&ie=UTF8&qid=1532002016&lo=watches\"\n",
    "    \n",
    "    reviews = []\n",
    "    \n",
    "    for products_page in range(1, 1000, 1):\n",
    "        page_number = str(products_page)\n",
    "        page_url_of_products = url1 + page_number + url2 + page_number + url3\n",
    "        \n",
    "        try:\n",
    "            links = get_all_product_links_in_a_page(page_url_of_products)\n",
    "        except:\n",
    "            sleep(5)\n",
    "            links = get_all_product_links_in_a_page(page_url_of_products)\n",
    "        \n",
    "        print(products_page, len(links))\n",
    "            \n",
    "        if len(links) > 0:\n",
    "            for product_link in links:\n",
    "                reviews += find_all_reviews_of_a_product(product_link)\n",
    "        else:\n",
    "            break\n",
    "            \n",
    "        return reviews"
   ]
  }
 ],
 "metadata": {
  "kernelspec": {
   "display_name": "Python 3",
   "language": "python",
   "name": "python3"
  },
  "language_info": {
   "codemirror_mode": {
    "name": "ipython",
    "version": 3
   },
   "file_extension": ".py",
   "mimetype": "text/x-python",
   "name": "python",
   "nbconvert_exporter": "python",
   "pygments_lexer": "ipython3",
   "version": "3.6.5"
  }
 },
 "nbformat": 4,
 "nbformat_minor": 2
}
